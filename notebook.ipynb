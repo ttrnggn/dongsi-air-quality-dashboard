{
  "cells": [
    {
      "attachments": {},
      "cell_type": "markdown",
      "metadata": {
        "id": "cP5zh7Ww85Fm"
      },
      "source": [
        "# Proyek Analisis Data: Nama dataset\n",
        "- Nama: Henry Trenggana\n",
        "- Email: trenggana70@gmail.com\n",
        "- Id Dicoding: henryyy"
      ]
    },
    {
      "attachments": {},
      "cell_type": "markdown",
      "metadata": {
        "id": "ggwOFmpI88dG"
      },
      "source": [
        "## Menentukan Pertanyaan Bisnis"
      ]
    },
    {
      "attachments": {},
      "cell_type": "markdown",
      "metadata": {
        "id": "6irqmTtg8-IC"
      },
      "source": [
        "- Apa penyebab terbesar dari pencemaran udara di kota Dongsi?\n",
        "- Apa yang dapat dilakukan oleh masyarakat Dongsi untuk mengurangi pencemaran udara di wilayah nya?\n",
        "- Bagaimana kualitas udara di kota Dongsi dari waktu ke waktu?"
      ]
    },
    {
      "attachments": {},
      "cell_type": "markdown",
      "metadata": {
        "id": "EueHsNk89AsY"
      },
      "source": [
        "## Menyaipkan semua library yang dibutuhkan\n",
        "\n"
      ]
    },
    {
      "cell_type": "code",
      "execution_count": 6,
      "metadata": {
        "id": "4cmWv4qc8xWu"
      },
      "outputs": [],
      "source": [
        "import pandas as pd\n",
        "import matplotlib.pyplot as plt"
      ]
    },
    {
      "attachments": {},
      "cell_type": "markdown",
      "metadata": {
        "id": "7DwSpkkZ9BqV"
      },
      "source": [
        "## Data Wrangling"
      ]
    },
    {
      "attachments": {},
      "cell_type": "markdown",
      "metadata": {
        "id": "ZuJuLGxe9D9O"
      },
      "source": [
        "### Gathering Data"
      ]
    },
    {
      "cell_type": "code",
      "execution_count": 7,
      "metadata": {
        "colab": {
          "base_uri": "https://localhost:8080/",
          "height": 0
        },
        "id": "Rg3wtvOr9DUm",
        "outputId": "f78063a9-e0e9-4a93-f5ae-0263d2e2d28b"
      },
      "outputs": [
        {
          "data": {
            "text/html": [
              "<div>\n",
              "<style scoped>\n",
              "    .dataframe tbody tr th:only-of-type {\n",
              "        vertical-align: middle;\n",
              "    }\n",
              "\n",
              "    .dataframe tbody tr th {\n",
              "        vertical-align: top;\n",
              "    }\n",
              "\n",
              "    .dataframe thead th {\n",
              "        text-align: right;\n",
              "    }\n",
              "</style>\n",
              "<table border=\"1\" class=\"dataframe\">\n",
              "  <thead>\n",
              "    <tr style=\"text-align: right;\">\n",
              "      <th></th>\n",
              "      <th>No</th>\n",
              "      <th>year</th>\n",
              "      <th>month</th>\n",
              "      <th>day</th>\n",
              "      <th>hour</th>\n",
              "      <th>PM2.5</th>\n",
              "      <th>PM10</th>\n",
              "      <th>SO2</th>\n",
              "      <th>NO2</th>\n",
              "      <th>CO</th>\n",
              "      <th>O3</th>\n",
              "      <th>TEMP</th>\n",
              "      <th>PRES</th>\n",
              "      <th>DEWP</th>\n",
              "      <th>RAIN</th>\n",
              "      <th>wd</th>\n",
              "      <th>WSPM</th>\n",
              "      <th>station</th>\n",
              "    </tr>\n",
              "  </thead>\n",
              "  <tbody>\n",
              "    <tr>\n",
              "      <th>0</th>\n",
              "      <td>1</td>\n",
              "      <td>2013</td>\n",
              "      <td>3</td>\n",
              "      <td>1</td>\n",
              "      <td>0</td>\n",
              "      <td>9.0</td>\n",
              "      <td>9.0</td>\n",
              "      <td>3.0</td>\n",
              "      <td>17.0</td>\n",
              "      <td>300.0</td>\n",
              "      <td>89.0</td>\n",
              "      <td>-0.5</td>\n",
              "      <td>1024.5</td>\n",
              "      <td>-21.4</td>\n",
              "      <td>0.0</td>\n",
              "      <td>NNW</td>\n",
              "      <td>5.7</td>\n",
              "      <td>Dongsi</td>\n",
              "    </tr>\n",
              "    <tr>\n",
              "      <th>1</th>\n",
              "      <td>2</td>\n",
              "      <td>2013</td>\n",
              "      <td>3</td>\n",
              "      <td>1</td>\n",
              "      <td>1</td>\n",
              "      <td>4.0</td>\n",
              "      <td>4.0</td>\n",
              "      <td>3.0</td>\n",
              "      <td>16.0</td>\n",
              "      <td>300.0</td>\n",
              "      <td>88.0</td>\n",
              "      <td>-0.7</td>\n",
              "      <td>1025.1</td>\n",
              "      <td>-22.1</td>\n",
              "      <td>0.0</td>\n",
              "      <td>NW</td>\n",
              "      <td>3.9</td>\n",
              "      <td>Dongsi</td>\n",
              "    </tr>\n",
              "    <tr>\n",
              "      <th>2</th>\n",
              "      <td>3</td>\n",
              "      <td>2013</td>\n",
              "      <td>3</td>\n",
              "      <td>1</td>\n",
              "      <td>2</td>\n",
              "      <td>7.0</td>\n",
              "      <td>7.0</td>\n",
              "      <td>NaN</td>\n",
              "      <td>17.0</td>\n",
              "      <td>300.0</td>\n",
              "      <td>60.0</td>\n",
              "      <td>-1.2</td>\n",
              "      <td>1025.3</td>\n",
              "      <td>-24.6</td>\n",
              "      <td>0.0</td>\n",
              "      <td>NNW</td>\n",
              "      <td>5.3</td>\n",
              "      <td>Dongsi</td>\n",
              "    </tr>\n",
              "    <tr>\n",
              "      <th>3</th>\n",
              "      <td>4</td>\n",
              "      <td>2013</td>\n",
              "      <td>3</td>\n",
              "      <td>1</td>\n",
              "      <td>3</td>\n",
              "      <td>3.0</td>\n",
              "      <td>3.0</td>\n",
              "      <td>5.0</td>\n",
              "      <td>18.0</td>\n",
              "      <td>NaN</td>\n",
              "      <td>NaN</td>\n",
              "      <td>-1.4</td>\n",
              "      <td>1026.2</td>\n",
              "      <td>-25.5</td>\n",
              "      <td>0.0</td>\n",
              "      <td>N</td>\n",
              "      <td>4.9</td>\n",
              "      <td>Dongsi</td>\n",
              "    </tr>\n",
              "    <tr>\n",
              "      <th>4</th>\n",
              "      <td>5</td>\n",
              "      <td>2013</td>\n",
              "      <td>3</td>\n",
              "      <td>1</td>\n",
              "      <td>4</td>\n",
              "      <td>3.0</td>\n",
              "      <td>3.0</td>\n",
              "      <td>7.0</td>\n",
              "      <td>NaN</td>\n",
              "      <td>200.0</td>\n",
              "      <td>84.0</td>\n",
              "      <td>-1.9</td>\n",
              "      <td>1027.1</td>\n",
              "      <td>-24.5</td>\n",
              "      <td>0.0</td>\n",
              "      <td>NNW</td>\n",
              "      <td>3.2</td>\n",
              "      <td>Dongsi</td>\n",
              "    </tr>\n",
              "  </tbody>\n",
              "</table>\n",
              "</div>"
            ],
            "text/plain": [
              "   No  year  month  day  hour  PM2.5  PM10  SO2   NO2     CO    O3  TEMP  \\\n",
              "0   1  2013      3    1     0    9.0   9.0  3.0  17.0  300.0  89.0  -0.5   \n",
              "1   2  2013      3    1     1    4.0   4.0  3.0  16.0  300.0  88.0  -0.7   \n",
              "2   3  2013      3    1     2    7.0   7.0  NaN  17.0  300.0  60.0  -1.2   \n",
              "3   4  2013      3    1     3    3.0   3.0  5.0  18.0    NaN   NaN  -1.4   \n",
              "4   5  2013      3    1     4    3.0   3.0  7.0   NaN  200.0  84.0  -1.9   \n",
              "\n",
              "     PRES  DEWP  RAIN   wd  WSPM station  \n",
              "0  1024.5 -21.4   0.0  NNW   5.7  Dongsi  \n",
              "1  1025.1 -22.1   0.0   NW   3.9  Dongsi  \n",
              "2  1025.3 -24.6   0.0  NNW   5.3  Dongsi  \n",
              "3  1026.2 -25.5   0.0    N   4.9  Dongsi  \n",
              "4  1027.1 -24.5   0.0  NNW   3.2  Dongsi  "
            ]
          },
          "execution_count": 7,
          "metadata": {},
          "output_type": "execute_result"
        }
      ],
      "source": [
        "air_quality_df = pd.read_csv('./data/PRSA_Data_Dongsi_20130301-20170228.csv')\n",
        "air_quality_df.head(5)"
      ]
    },
    {
      "attachments": {},
      "cell_type": "markdown",
      "metadata": {
        "id": "BvZAfrSH9F2U"
      },
      "source": [
        "\n",
        "\n",
        "### Assessing Data"
      ]
    },
    {
      "cell_type": "code",
      "execution_count": 8,
      "metadata": {
        "colab": {
          "base_uri": "https://localhost:8080/"
        },
        "id": "YoGkPPkG8os1",
        "outputId": "5f64b003-f3e0-478f-e4da-081760030e7b"
      },
      "outputs": [
        {
          "name": "stdout",
          "output_type": "stream",
          "text": [
            "<class 'pandas.core.frame.DataFrame'>\n",
            "RangeIndex: 35064 entries, 0 to 35063\n",
            "Data columns (total 18 columns):\n",
            " #   Column   Non-Null Count  Dtype  \n",
            "---  ------   --------------  -----  \n",
            " 0   No       35064 non-null  int64  \n",
            " 1   year     35064 non-null  int64  \n",
            " 2   month    35064 non-null  int64  \n",
            " 3   day      35064 non-null  int64  \n",
            " 4   hour     35064 non-null  int64  \n",
            " 5   PM2.5    34314 non-null  float64\n",
            " 6   PM10     34511 non-null  float64\n",
            " 7   SO2      34401 non-null  float64\n",
            " 8   NO2      33463 non-null  float64\n",
            " 9   CO       31867 non-null  float64\n",
            " 10  O3       34400 non-null  float64\n",
            " 11  TEMP     35044 non-null  float64\n",
            " 12  PRES     35044 non-null  float64\n",
            " 13  DEWP     35044 non-null  float64\n",
            " 14  RAIN     35044 non-null  float64\n",
            " 15  wd       34986 non-null  object \n",
            " 16  WSPM     35050 non-null  float64\n",
            " 17  station  35064 non-null  object \n",
            "dtypes: float64(11), int64(5), object(2)\n",
            "memory usage: 4.8+ MB\n"
          ]
        }
      ],
      "source": [
        "air_quality_df.info()"
      ]
    },
    {
      "attachments": {},
      "cell_type": "markdown",
      "metadata": {
        "id": "d4S1nyG57WnT"
      },
      "source": [
        "####Check for NULL"
      ]
    },
    {
      "cell_type": "code",
      "execution_count": 9,
      "metadata": {
        "colab": {
          "base_uri": "https://localhost:8080/"
        },
        "id": "fx7PaLsV9G8M",
        "outputId": "aaf524b1-6c82-468f-a237-794734f1107e"
      },
      "outputs": [
        {
          "data": {
            "text/plain": [
              "No            0\n",
              "year          0\n",
              "month         0\n",
              "day           0\n",
              "hour          0\n",
              "PM2.5       750\n",
              "PM10        553\n",
              "SO2         663\n",
              "NO2        1601\n",
              "CO         3197\n",
              "O3          664\n",
              "TEMP         20\n",
              "PRES         20\n",
              "DEWP         20\n",
              "RAIN         20\n",
              "wd           78\n",
              "WSPM         14\n",
              "station       0\n",
              "dtype: int64"
            ]
          },
          "execution_count": 9,
          "metadata": {},
          "output_type": "execute_result"
        }
      ],
      "source": [
        "air_quality_df.isnull().sum()"
      ]
    },
    {
      "attachments": {},
      "cell_type": "markdown",
      "metadata": {
        "id": "F9aXnlyo82Pf"
      },
      "source": [
        "####Check for duplicated data"
      ]
    },
    {
      "cell_type": "code",
      "execution_count": 10,
      "metadata": {
        "colab": {
          "base_uri": "https://localhost:8080/"
        },
        "id": "GQKQZoV588Pb",
        "outputId": "1b62196c-21df-45fc-a7bc-dab684ea3f66"
      },
      "outputs": [
        {
          "data": {
            "text/plain": [
              "0"
            ]
          },
          "execution_count": 10,
          "metadata": {},
          "output_type": "execute_result"
        }
      ],
      "source": [
        "air_quality_df.duplicated().sum()"
      ]
    },
    {
      "attachments": {},
      "cell_type": "markdown",
      "metadata": {
        "id": "Jor9WQl79OOp"
      },
      "source": [
        "####Check summary info"
      ]
    },
    {
      "cell_type": "code",
      "execution_count": 11,
      "metadata": {
        "colab": {
          "base_uri": "https://localhost:8080/",
          "height": 0
        },
        "id": "txI_qxxE9ZS6",
        "outputId": "5e16bd37-90da-4ea5-dd10-046dce47c7eb"
      },
      "outputs": [
        {
          "data": {
            "text/html": [
              "<div>\n",
              "<style scoped>\n",
              "    .dataframe tbody tr th:only-of-type {\n",
              "        vertical-align: middle;\n",
              "    }\n",
              "\n",
              "    .dataframe tbody tr th {\n",
              "        vertical-align: top;\n",
              "    }\n",
              "\n",
              "    .dataframe thead th {\n",
              "        text-align: right;\n",
              "    }\n",
              "</style>\n",
              "<table border=\"1\" class=\"dataframe\">\n",
              "  <thead>\n",
              "    <tr style=\"text-align: right;\">\n",
              "      <th></th>\n",
              "      <th>No</th>\n",
              "      <th>year</th>\n",
              "      <th>month</th>\n",
              "      <th>day</th>\n",
              "      <th>hour</th>\n",
              "      <th>PM2.5</th>\n",
              "      <th>PM10</th>\n",
              "      <th>SO2</th>\n",
              "      <th>NO2</th>\n",
              "      <th>CO</th>\n",
              "      <th>O3</th>\n",
              "      <th>TEMP</th>\n",
              "      <th>PRES</th>\n",
              "      <th>DEWP</th>\n",
              "      <th>RAIN</th>\n",
              "      <th>WSPM</th>\n",
              "    </tr>\n",
              "  </thead>\n",
              "  <tbody>\n",
              "    <tr>\n",
              "      <th>count</th>\n",
              "      <td>35064.000000</td>\n",
              "      <td>35064.000000</td>\n",
              "      <td>35064.000000</td>\n",
              "      <td>35064.000000</td>\n",
              "      <td>35064.000000</td>\n",
              "      <td>34314.000000</td>\n",
              "      <td>34511.000000</td>\n",
              "      <td>34401.000000</td>\n",
              "      <td>33463.000000</td>\n",
              "      <td>31867.000000</td>\n",
              "      <td>34400.000000</td>\n",
              "      <td>35044.000000</td>\n",
              "      <td>35044.000000</td>\n",
              "      <td>35044.000000</td>\n",
              "      <td>35044.000000</td>\n",
              "      <td>35050.000000</td>\n",
              "    </tr>\n",
              "    <tr>\n",
              "      <th>mean</th>\n",
              "      <td>17532.500000</td>\n",
              "      <td>2014.662560</td>\n",
              "      <td>6.522930</td>\n",
              "      <td>15.729637</td>\n",
              "      <td>11.500000</td>\n",
              "      <td>86.194297</td>\n",
              "      <td>110.336742</td>\n",
              "      <td>18.531107</td>\n",
              "      <td>53.699443</td>\n",
              "      <td>1330.069131</td>\n",
              "      <td>57.210637</td>\n",
              "      <td>13.671490</td>\n",
              "      <td>1012.547419</td>\n",
              "      <td>2.447535</td>\n",
              "      <td>0.064020</td>\n",
              "      <td>1.860785</td>\n",
              "    </tr>\n",
              "    <tr>\n",
              "      <th>std</th>\n",
              "      <td>10122.249256</td>\n",
              "      <td>1.177213</td>\n",
              "      <td>3.448752</td>\n",
              "      <td>8.800218</td>\n",
              "      <td>6.922285</td>\n",
              "      <td>86.575127</td>\n",
              "      <td>98.219860</td>\n",
              "      <td>22.905655</td>\n",
              "      <td>33.959230</td>\n",
              "      <td>1191.305887</td>\n",
              "      <td>58.033275</td>\n",
              "      <td>11.458418</td>\n",
              "      <td>10.266059</td>\n",
              "      <td>13.810696</td>\n",
              "      <td>0.786282</td>\n",
              "      <td>1.280368</td>\n",
              "    </tr>\n",
              "    <tr>\n",
              "      <th>min</th>\n",
              "      <td>1.000000</td>\n",
              "      <td>2013.000000</td>\n",
              "      <td>1.000000</td>\n",
              "      <td>1.000000</td>\n",
              "      <td>0.000000</td>\n",
              "      <td>3.000000</td>\n",
              "      <td>2.000000</td>\n",
              "      <td>0.285600</td>\n",
              "      <td>2.000000</td>\n",
              "      <td>100.000000</td>\n",
              "      <td>0.642600</td>\n",
              "      <td>-16.800000</td>\n",
              "      <td>987.100000</td>\n",
              "      <td>-35.300000</td>\n",
              "      <td>0.000000</td>\n",
              "      <td>0.000000</td>\n",
              "    </tr>\n",
              "    <tr>\n",
              "      <th>25%</th>\n",
              "      <td>8766.750000</td>\n",
              "      <td>2014.000000</td>\n",
              "      <td>4.000000</td>\n",
              "      <td>8.000000</td>\n",
              "      <td>5.750000</td>\n",
              "      <td>22.000000</td>\n",
              "      <td>38.000000</td>\n",
              "      <td>4.000000</td>\n",
              "      <td>27.000000</td>\n",
              "      <td>600.000000</td>\n",
              "      <td>12.000000</td>\n",
              "      <td>3.100000</td>\n",
              "      <td>1004.000000</td>\n",
              "      <td>-8.800000</td>\n",
              "      <td>0.000000</td>\n",
              "      <td>1.000000</td>\n",
              "    </tr>\n",
              "    <tr>\n",
              "      <th>50%</th>\n",
              "      <td>17532.500000</td>\n",
              "      <td>2015.000000</td>\n",
              "      <td>7.000000</td>\n",
              "      <td>16.000000</td>\n",
              "      <td>11.500000</td>\n",
              "      <td>61.000000</td>\n",
              "      <td>86.000000</td>\n",
              "      <td>10.000000</td>\n",
              "      <td>47.000000</td>\n",
              "      <td>1000.000000</td>\n",
              "      <td>44.125200</td>\n",
              "      <td>14.600000</td>\n",
              "      <td>1012.200000</td>\n",
              "      <td>3.000000</td>\n",
              "      <td>0.000000</td>\n",
              "      <td>1.500000</td>\n",
              "    </tr>\n",
              "    <tr>\n",
              "      <th>75%</th>\n",
              "      <td>26298.250000</td>\n",
              "      <td>2016.000000</td>\n",
              "      <td>10.000000</td>\n",
              "      <td>23.000000</td>\n",
              "      <td>17.250000</td>\n",
              "      <td>119.000000</td>\n",
              "      <td>151.000000</td>\n",
              "      <td>24.000000</td>\n",
              "      <td>73.000000</td>\n",
              "      <td>1700.000000</td>\n",
              "      <td>81.000000</td>\n",
              "      <td>23.500000</td>\n",
              "      <td>1020.900000</td>\n",
              "      <td>15.000000</td>\n",
              "      <td>0.000000</td>\n",
              "      <td>2.400000</td>\n",
              "    </tr>\n",
              "    <tr>\n",
              "      <th>max</th>\n",
              "      <td>35064.000000</td>\n",
              "      <td>2017.000000</td>\n",
              "      <td>12.000000</td>\n",
              "      <td>31.000000</td>\n",
              "      <td>23.000000</td>\n",
              "      <td>737.000000</td>\n",
              "      <td>955.000000</td>\n",
              "      <td>300.000000</td>\n",
              "      <td>258.000000</td>\n",
              "      <td>10000.000000</td>\n",
              "      <td>1071.000000</td>\n",
              "      <td>41.100000</td>\n",
              "      <td>1042.000000</td>\n",
              "      <td>28.800000</td>\n",
              "      <td>46.400000</td>\n",
              "      <td>10.500000</td>\n",
              "    </tr>\n",
              "  </tbody>\n",
              "</table>\n",
              "</div>"
            ],
            "text/plain": [
              "                 No          year         month           day          hour  \\\n",
              "count  35064.000000  35064.000000  35064.000000  35064.000000  35064.000000   \n",
              "mean   17532.500000   2014.662560      6.522930     15.729637     11.500000   \n",
              "std    10122.249256      1.177213      3.448752      8.800218      6.922285   \n",
              "min        1.000000   2013.000000      1.000000      1.000000      0.000000   \n",
              "25%     8766.750000   2014.000000      4.000000      8.000000      5.750000   \n",
              "50%    17532.500000   2015.000000      7.000000     16.000000     11.500000   \n",
              "75%    26298.250000   2016.000000     10.000000     23.000000     17.250000   \n",
              "max    35064.000000   2017.000000     12.000000     31.000000     23.000000   \n",
              "\n",
              "              PM2.5          PM10           SO2           NO2            CO  \\\n",
              "count  34314.000000  34511.000000  34401.000000  33463.000000  31867.000000   \n",
              "mean      86.194297    110.336742     18.531107     53.699443   1330.069131   \n",
              "std       86.575127     98.219860     22.905655     33.959230   1191.305887   \n",
              "min        3.000000      2.000000      0.285600      2.000000    100.000000   \n",
              "25%       22.000000     38.000000      4.000000     27.000000    600.000000   \n",
              "50%       61.000000     86.000000     10.000000     47.000000   1000.000000   \n",
              "75%      119.000000    151.000000     24.000000     73.000000   1700.000000   \n",
              "max      737.000000    955.000000    300.000000    258.000000  10000.000000   \n",
              "\n",
              "                 O3          TEMP          PRES          DEWP          RAIN  \\\n",
              "count  34400.000000  35044.000000  35044.000000  35044.000000  35044.000000   \n",
              "mean      57.210637     13.671490   1012.547419      2.447535      0.064020   \n",
              "std       58.033275     11.458418     10.266059     13.810696      0.786282   \n",
              "min        0.642600    -16.800000    987.100000    -35.300000      0.000000   \n",
              "25%       12.000000      3.100000   1004.000000     -8.800000      0.000000   \n",
              "50%       44.125200     14.600000   1012.200000      3.000000      0.000000   \n",
              "75%       81.000000     23.500000   1020.900000     15.000000      0.000000   \n",
              "max     1071.000000     41.100000   1042.000000     28.800000     46.400000   \n",
              "\n",
              "               WSPM  \n",
              "count  35050.000000  \n",
              "mean       1.860785  \n",
              "std        1.280368  \n",
              "min        0.000000  \n",
              "25%        1.000000  \n",
              "50%        1.500000  \n",
              "75%        2.400000  \n",
              "max       10.500000  "
            ]
          },
          "execution_count": 11,
          "metadata": {},
          "output_type": "execute_result"
        }
      ],
      "source": [
        "air_quality_df.describe()"
      ]
    },
    {
      "attachments": {},
      "cell_type": "markdown",
      "metadata": {
        "id": "Uz5dgcJm9HW5"
      },
      "source": [
        "### Cleaning Data"
      ]
    },
    {
      "attachments": {},
      "cell_type": "markdown",
      "metadata": {
        "id": "UFmp3FkL_Bik"
      },
      "source": [
        "####Mengatasi missing value menggunakan teknik interpolation (dikarenakan data ini merupakan data berbasis time series)"
      ]
    },
    {
      "cell_type": "code",
      "execution_count": 12,
      "metadata": {
        "id": "CCszTdXD9Ivf"
      },
      "outputs": [
        {
          "name": "stderr",
          "output_type": "stream",
          "text": [
            "C:\\Users\\IBM-JTI\\AppData\\Local\\Temp\\ipykernel_20552\\1503469609.py:6: FutureWarning: DataFrame.interpolate with object dtype is deprecated and will raise in a future version. Call obj.infer_objects(copy=False) before interpolating instead.\n",
            "  air_quality_df.interpolate(method='time', limit_direction='forward', inplace=True)\n"
          ]
        }
      ],
      "source": [
        "#create a new column that will we use for index and have type dateTime\n",
        "air_quality_df['datetime'] = pd.to_datetime(air_quality_df[['year', 'month', 'day', 'hour']])\n",
        "#set index to the datetime column\n",
        "air_quality_df.set_index('datetime', inplace=True)\n",
        "#create interpolation\n",
        "air_quality_df.interpolate(method='time', limit_direction='forward', inplace=True)"
      ]
    },
    {
      "cell_type": "code",
      "execution_count": 13,
      "metadata": {
        "colab": {
          "base_uri": "https://localhost:8080/"
        },
        "id": "cLMhZDyIDaky",
        "outputId": "20bffe26-a316-461a-a825-239fa02ced06"
      },
      "outputs": [
        {
          "data": {
            "text/plain": [
              "No          0\n",
              "year        0\n",
              "month       0\n",
              "day         0\n",
              "hour        0\n",
              "PM2.5       0\n",
              "PM10        0\n",
              "SO2         0\n",
              "NO2         0\n",
              "CO          0\n",
              "O3          0\n",
              "TEMP        0\n",
              "PRES        0\n",
              "DEWP        0\n",
              "RAIN        0\n",
              "wd         78\n",
              "WSPM        0\n",
              "station     0\n",
              "dtype: int64"
            ]
          },
          "execution_count": 13,
          "metadata": {},
          "output_type": "execute_result"
        }
      ],
      "source": [
        "#Check missing value setelah dilakukan interpolasi\n",
        "air_quality_df.isna().sum()"
      ]
    },
    {
      "cell_type": "code",
      "execution_count": 14,
      "metadata": {
        "colab": {
          "base_uri": "https://localhost:8080/",
          "height": 0
        },
        "id": "eNA1D4ymEFSR",
        "outputId": "a8e40886-fdb0-438a-859e-9233c277d525"
      },
      "outputs": [
        {
          "data": {
            "text/html": [
              "<div>\n",
              "<style scoped>\n",
              "    .dataframe tbody tr th:only-of-type {\n",
              "        vertical-align: middle;\n",
              "    }\n",
              "\n",
              "    .dataframe tbody tr th {\n",
              "        vertical-align: top;\n",
              "    }\n",
              "\n",
              "    .dataframe thead th {\n",
              "        text-align: right;\n",
              "    }\n",
              "</style>\n",
              "<table border=\"1\" class=\"dataframe\">\n",
              "  <thead>\n",
              "    <tr style=\"text-align: right;\">\n",
              "      <th></th>\n",
              "      <th>No</th>\n",
              "      <th>year</th>\n",
              "      <th>month</th>\n",
              "      <th>day</th>\n",
              "      <th>hour</th>\n",
              "      <th>PM2.5</th>\n",
              "      <th>PM10</th>\n",
              "      <th>SO2</th>\n",
              "      <th>NO2</th>\n",
              "      <th>CO</th>\n",
              "      <th>O3</th>\n",
              "      <th>TEMP</th>\n",
              "      <th>PRES</th>\n",
              "      <th>DEWP</th>\n",
              "      <th>RAIN</th>\n",
              "      <th>WSPM</th>\n",
              "    </tr>\n",
              "  </thead>\n",
              "  <tbody>\n",
              "    <tr>\n",
              "      <th>count</th>\n",
              "      <td>35064.000000</td>\n",
              "      <td>35064.000000</td>\n",
              "      <td>35064.000000</td>\n",
              "      <td>35064.000000</td>\n",
              "      <td>35064.000000</td>\n",
              "      <td>35064.000000</td>\n",
              "      <td>35064.000000</td>\n",
              "      <td>35064.000000</td>\n",
              "      <td>35064.000000</td>\n",
              "      <td>35064.000000</td>\n",
              "      <td>35064.000000</td>\n",
              "      <td>35064.000000</td>\n",
              "      <td>35064.000000</td>\n",
              "      <td>35064.000000</td>\n",
              "      <td>35064.000000</td>\n",
              "      <td>35064.000000</td>\n",
              "    </tr>\n",
              "    <tr>\n",
              "      <th>mean</th>\n",
              "      <td>17532.500000</td>\n",
              "      <td>2014.662560</td>\n",
              "      <td>6.522930</td>\n",
              "      <td>15.729637</td>\n",
              "      <td>11.500000</td>\n",
              "      <td>86.144243</td>\n",
              "      <td>110.347617</td>\n",
              "      <td>18.506142</td>\n",
              "      <td>53.953078</td>\n",
              "      <td>1331.913045</td>\n",
              "      <td>57.700357</td>\n",
              "      <td>13.668250</td>\n",
              "      <td>1012.551871</td>\n",
              "      <td>2.445126</td>\n",
              "      <td>0.063983</td>\n",
              "      <td>1.860815</td>\n",
              "    </tr>\n",
              "    <tr>\n",
              "      <th>std</th>\n",
              "      <td>10122.249256</td>\n",
              "      <td>1.177213</td>\n",
              "      <td>3.448752</td>\n",
              "      <td>8.800218</td>\n",
              "      <td>6.922285</td>\n",
              "      <td>86.260246</td>\n",
              "      <td>98.239918</td>\n",
              "      <td>22.954756</td>\n",
              "      <td>34.213245</td>\n",
              "      <td>1169.035307</td>\n",
              "      <td>58.327178</td>\n",
              "      <td>11.459735</td>\n",
              "      <td>10.266471</td>\n",
              "      <td>13.811939</td>\n",
              "      <td>0.786059</td>\n",
              "      <td>1.280427</td>\n",
              "    </tr>\n",
              "    <tr>\n",
              "      <th>min</th>\n",
              "      <td>1.000000</td>\n",
              "      <td>2013.000000</td>\n",
              "      <td>1.000000</td>\n",
              "      <td>1.000000</td>\n",
              "      <td>0.000000</td>\n",
              "      <td>3.000000</td>\n",
              "      <td>2.000000</td>\n",
              "      <td>0.285600</td>\n",
              "      <td>2.000000</td>\n",
              "      <td>100.000000</td>\n",
              "      <td>0.642600</td>\n",
              "      <td>-16.800000</td>\n",
              "      <td>987.100000</td>\n",
              "      <td>-35.300000</td>\n",
              "      <td>0.000000</td>\n",
              "      <td>0.000000</td>\n",
              "    </tr>\n",
              "    <tr>\n",
              "      <th>25%</th>\n",
              "      <td>8766.750000</td>\n",
              "      <td>2014.000000</td>\n",
              "      <td>4.000000</td>\n",
              "      <td>8.000000</td>\n",
              "      <td>5.750000</td>\n",
              "      <td>23.000000</td>\n",
              "      <td>38.000000</td>\n",
              "      <td>3.712800</td>\n",
              "      <td>27.000000</td>\n",
              "      <td>600.000000</td>\n",
              "      <td>13.000000</td>\n",
              "      <td>3.100000</td>\n",
              "      <td>1004.000000</td>\n",
              "      <td>-8.800000</td>\n",
              "      <td>0.000000</td>\n",
              "      <td>1.000000</td>\n",
              "    </tr>\n",
              "    <tr>\n",
              "      <th>50%</th>\n",
              "      <td>17532.500000</td>\n",
              "      <td>2015.000000</td>\n",
              "      <td>7.000000</td>\n",
              "      <td>16.000000</td>\n",
              "      <td>11.500000</td>\n",
              "      <td>61.000000</td>\n",
              "      <td>86.000000</td>\n",
              "      <td>10.000000</td>\n",
              "      <td>47.000000</td>\n",
              "      <td>1000.000000</td>\n",
              "      <td>45.000000</td>\n",
              "      <td>14.600000</td>\n",
              "      <td>1012.200000</td>\n",
              "      <td>3.000000</td>\n",
              "      <td>0.000000</td>\n",
              "      <td>1.500000</td>\n",
              "    </tr>\n",
              "    <tr>\n",
              "      <th>75%</th>\n",
              "      <td>26298.250000</td>\n",
              "      <td>2016.000000</td>\n",
              "      <td>10.000000</td>\n",
              "      <td>23.000000</td>\n",
              "      <td>17.250000</td>\n",
              "      <td>119.000000</td>\n",
              "      <td>150.000000</td>\n",
              "      <td>24.000000</td>\n",
              "      <td>74.000000</td>\n",
              "      <td>1700.000000</td>\n",
              "      <td>82.000000</td>\n",
              "      <td>23.500000</td>\n",
              "      <td>1020.900000</td>\n",
              "      <td>15.000000</td>\n",
              "      <td>0.000000</td>\n",
              "      <td>2.400000</td>\n",
              "    </tr>\n",
              "    <tr>\n",
              "      <th>max</th>\n",
              "      <td>35064.000000</td>\n",
              "      <td>2017.000000</td>\n",
              "      <td>12.000000</td>\n",
              "      <td>31.000000</td>\n",
              "      <td>23.000000</td>\n",
              "      <td>737.000000</td>\n",
              "      <td>955.000000</td>\n",
              "      <td>300.000000</td>\n",
              "      <td>258.000000</td>\n",
              "      <td>10000.000000</td>\n",
              "      <td>1071.000000</td>\n",
              "      <td>41.100000</td>\n",
              "      <td>1042.000000</td>\n",
              "      <td>28.800000</td>\n",
              "      <td>46.400000</td>\n",
              "      <td>10.500000</td>\n",
              "    </tr>\n",
              "  </tbody>\n",
              "</table>\n",
              "</div>"
            ],
            "text/plain": [
              "                 No          year         month           day          hour  \\\n",
              "count  35064.000000  35064.000000  35064.000000  35064.000000  35064.000000   \n",
              "mean   17532.500000   2014.662560      6.522930     15.729637     11.500000   \n",
              "std    10122.249256      1.177213      3.448752      8.800218      6.922285   \n",
              "min        1.000000   2013.000000      1.000000      1.000000      0.000000   \n",
              "25%     8766.750000   2014.000000      4.000000      8.000000      5.750000   \n",
              "50%    17532.500000   2015.000000      7.000000     16.000000     11.500000   \n",
              "75%    26298.250000   2016.000000     10.000000     23.000000     17.250000   \n",
              "max    35064.000000   2017.000000     12.000000     31.000000     23.000000   \n",
              "\n",
              "              PM2.5          PM10           SO2           NO2            CO  \\\n",
              "count  35064.000000  35064.000000  35064.000000  35064.000000  35064.000000   \n",
              "mean      86.144243    110.347617     18.506142     53.953078   1331.913045   \n",
              "std       86.260246     98.239918     22.954756     34.213245   1169.035307   \n",
              "min        3.000000      2.000000      0.285600      2.000000    100.000000   \n",
              "25%       23.000000     38.000000      3.712800     27.000000    600.000000   \n",
              "50%       61.000000     86.000000     10.000000     47.000000   1000.000000   \n",
              "75%      119.000000    150.000000     24.000000     74.000000   1700.000000   \n",
              "max      737.000000    955.000000    300.000000    258.000000  10000.000000   \n",
              "\n",
              "                 O3          TEMP          PRES          DEWP          RAIN  \\\n",
              "count  35064.000000  35064.000000  35064.000000  35064.000000  35064.000000   \n",
              "mean      57.700357     13.668250   1012.551871      2.445126      0.063983   \n",
              "std       58.327178     11.459735     10.266471     13.811939      0.786059   \n",
              "min        0.642600    -16.800000    987.100000    -35.300000      0.000000   \n",
              "25%       13.000000      3.100000   1004.000000     -8.800000      0.000000   \n",
              "50%       45.000000     14.600000   1012.200000      3.000000      0.000000   \n",
              "75%       82.000000     23.500000   1020.900000     15.000000      0.000000   \n",
              "max     1071.000000     41.100000   1042.000000     28.800000     46.400000   \n",
              "\n",
              "               WSPM  \n",
              "count  35064.000000  \n",
              "mean       1.860815  \n",
              "std        1.280427  \n",
              "min        0.000000  \n",
              "25%        1.000000  \n",
              "50%        1.500000  \n",
              "75%        2.400000  \n",
              "max       10.500000  "
            ]
          },
          "execution_count": 14,
          "metadata": {},
          "output_type": "execute_result"
        }
      ],
      "source": [
        "#Check summary setelah missing value terisi\n",
        "air_quality_df.describe()"
      ]
    },
    {
      "attachments": {},
      "cell_type": "markdown",
      "metadata": {
        "id": "xHa7hHr9EY2H"
      },
      "source": [
        "####Drop column yang tidak terpakai"
      ]
    },
    {
      "cell_type": "code",
      "execution_count": 15,
      "metadata": {
        "id": "vuPOnYxmE31X"
      },
      "outputs": [],
      "source": [
        "air_quality_df = air_quality_df.drop(['TEMP', 'PRES', 'DEWP', 'RAIN', 'WSPM', 'wd', 'station'], axis=1)"
      ]
    },
    {
      "cell_type": "code",
      "execution_count": 16,
      "metadata": {
        "colab": {
          "base_uri": "https://localhost:8080/",
          "height": 0
        },
        "id": "t6P-tTR-JtDr",
        "outputId": "392e83b5-1e1c-40f5-9e16-e3c81505167b"
      },
      "outputs": [
        {
          "data": {
            "text/html": [
              "<div>\n",
              "<style scoped>\n",
              "    .dataframe tbody tr th:only-of-type {\n",
              "        vertical-align: middle;\n",
              "    }\n",
              "\n",
              "    .dataframe tbody tr th {\n",
              "        vertical-align: top;\n",
              "    }\n",
              "\n",
              "    .dataframe thead th {\n",
              "        text-align: right;\n",
              "    }\n",
              "</style>\n",
              "<table border=\"1\" class=\"dataframe\">\n",
              "  <thead>\n",
              "    <tr style=\"text-align: right;\">\n",
              "      <th></th>\n",
              "      <th>No</th>\n",
              "      <th>year</th>\n",
              "      <th>month</th>\n",
              "      <th>day</th>\n",
              "      <th>hour</th>\n",
              "      <th>PM2.5</th>\n",
              "      <th>PM10</th>\n",
              "      <th>SO2</th>\n",
              "      <th>NO2</th>\n",
              "      <th>CO</th>\n",
              "      <th>O3</th>\n",
              "    </tr>\n",
              "    <tr>\n",
              "      <th>datetime</th>\n",
              "      <th></th>\n",
              "      <th></th>\n",
              "      <th></th>\n",
              "      <th></th>\n",
              "      <th></th>\n",
              "      <th></th>\n",
              "      <th></th>\n",
              "      <th></th>\n",
              "      <th></th>\n",
              "      <th></th>\n",
              "      <th></th>\n",
              "    </tr>\n",
              "  </thead>\n",
              "  <tbody>\n",
              "    <tr>\n",
              "      <th>2013-03-01 00:00:00</th>\n",
              "      <td>1</td>\n",
              "      <td>2013</td>\n",
              "      <td>3</td>\n",
              "      <td>1</td>\n",
              "      <td>0</td>\n",
              "      <td>9.0</td>\n",
              "      <td>9.0</td>\n",
              "      <td>3.0</td>\n",
              "      <td>17.0</td>\n",
              "      <td>300.0</td>\n",
              "      <td>89.0</td>\n",
              "    </tr>\n",
              "    <tr>\n",
              "      <th>2013-03-01 01:00:00</th>\n",
              "      <td>2</td>\n",
              "      <td>2013</td>\n",
              "      <td>3</td>\n",
              "      <td>1</td>\n",
              "      <td>1</td>\n",
              "      <td>4.0</td>\n",
              "      <td>4.0</td>\n",
              "      <td>3.0</td>\n",
              "      <td>16.0</td>\n",
              "      <td>300.0</td>\n",
              "      <td>88.0</td>\n",
              "    </tr>\n",
              "    <tr>\n",
              "      <th>2013-03-01 02:00:00</th>\n",
              "      <td>3</td>\n",
              "      <td>2013</td>\n",
              "      <td>3</td>\n",
              "      <td>1</td>\n",
              "      <td>2</td>\n",
              "      <td>7.0</td>\n",
              "      <td>7.0</td>\n",
              "      <td>4.0</td>\n",
              "      <td>17.0</td>\n",
              "      <td>300.0</td>\n",
              "      <td>60.0</td>\n",
              "    </tr>\n",
              "    <tr>\n",
              "      <th>2013-03-01 03:00:00</th>\n",
              "      <td>4</td>\n",
              "      <td>2013</td>\n",
              "      <td>3</td>\n",
              "      <td>1</td>\n",
              "      <td>3</td>\n",
              "      <td>3.0</td>\n",
              "      <td>3.0</td>\n",
              "      <td>5.0</td>\n",
              "      <td>18.0</td>\n",
              "      <td>250.0</td>\n",
              "      <td>72.0</td>\n",
              "    </tr>\n",
              "    <tr>\n",
              "      <th>2013-03-01 04:00:00</th>\n",
              "      <td>5</td>\n",
              "      <td>2013</td>\n",
              "      <td>3</td>\n",
              "      <td>1</td>\n",
              "      <td>4</td>\n",
              "      <td>3.0</td>\n",
              "      <td>3.0</td>\n",
              "      <td>7.0</td>\n",
              "      <td>21.5</td>\n",
              "      <td>200.0</td>\n",
              "      <td>84.0</td>\n",
              "    </tr>\n",
              "  </tbody>\n",
              "</table>\n",
              "</div>"
            ],
            "text/plain": [
              "                     No  year  month  day  hour  PM2.5  PM10  SO2   NO2  \\\n",
              "datetime                                                                  \n",
              "2013-03-01 00:00:00   1  2013      3    1     0    9.0   9.0  3.0  17.0   \n",
              "2013-03-01 01:00:00   2  2013      3    1     1    4.0   4.0  3.0  16.0   \n",
              "2013-03-01 02:00:00   3  2013      3    1     2    7.0   7.0  4.0  17.0   \n",
              "2013-03-01 03:00:00   4  2013      3    1     3    3.0   3.0  5.0  18.0   \n",
              "2013-03-01 04:00:00   5  2013      3    1     4    3.0   3.0  7.0  21.5   \n",
              "\n",
              "                        CO    O3  \n",
              "datetime                          \n",
              "2013-03-01 00:00:00  300.0  89.0  \n",
              "2013-03-01 01:00:00  300.0  88.0  \n",
              "2013-03-01 02:00:00  300.0  60.0  \n",
              "2013-03-01 03:00:00  250.0  72.0  \n",
              "2013-03-01 04:00:00  200.0  84.0  "
            ]
          },
          "execution_count": 16,
          "metadata": {},
          "output_type": "execute_result"
        }
      ],
      "source": [
        "air_quality_df.head(5)"
      ]
    },
    {
      "attachments": {},
      "cell_type": "markdown",
      "metadata": {
        "id": "vzn-pEO4eKmU"
      },
      "source": [
        "####Mengatasi outlier\n",
        "jika dilihat pada summary dengan fungsi describe, nilai maksimal pada setiap molekul udara terpantau jauh dibandingkan dengan nilai kuartil 3 (Q3) nya dan nilai minimal pada setiap molekul udara terpantau jauh dibandingkan dengan nilai kuartil 1 (Q1) nya. Hal ini dapat disebut sebagai nilai outlier yang dapat mengganggu kebersihan data."
      ]
    },
    {
      "cell_type": "code",
      "execution_count": 17,
      "metadata": {
        "id": "IalT-F-lfZIS"
      },
      "outputs": [],
      "source": [
        "#mengatasi outlier dengan Imputation fungsi mask\n",
        "\n",
        "def imputation (column) :\n",
        "  Q1 = (air_quality_df[column]).quantile(0.25)\n",
        "  Q3 = (air_quality_df[column]).quantile(0.75)\n",
        "  IQR = Q3 - Q1\n",
        "\n",
        "  maximum = Q3 + (1.5*IQR)\n",
        "  minimum = Q1 - (1.5*IQR)\n",
        "\n",
        "  kondisi_lower_than = air_quality_df[column] < minimum\n",
        "  kondisi_more_than = air_quality_df[column] > maximum\n",
        "\n",
        "  air_quality_df[column]=air_quality_df[column].apply(lambda x: maximum if x > maximum else x)\n",
        "  air_quality_df[column]=air_quality_df[column].apply(lambda x: minimum if x < minimum else x)"
      ]
    },
    {
      "cell_type": "code",
      "execution_count": 18,
      "metadata": {
        "id": "1Mr_7RnOf-r2"
      },
      "outputs": [],
      "source": [
        "imputation('PM2.5')\n",
        "imputation('PM10')\n",
        "imputation('SO2')\n",
        "imputation('NO2')\n",
        "imputation('CO')\n",
        "imputation('O3')"
      ]
    },
    {
      "cell_type": "code",
      "execution_count": 19,
      "metadata": {
        "colab": {
          "base_uri": "https://localhost:8080/",
          "height": 0
        },
        "id": "qsegtnLNgnVW",
        "outputId": "83ae3f44-341f-40c1-b1ae-a6c1f07d1dfd"
      },
      "outputs": [
        {
          "data": {
            "text/html": [
              "<div>\n",
              "<style scoped>\n",
              "    .dataframe tbody tr th:only-of-type {\n",
              "        vertical-align: middle;\n",
              "    }\n",
              "\n",
              "    .dataframe tbody tr th {\n",
              "        vertical-align: top;\n",
              "    }\n",
              "\n",
              "    .dataframe thead th {\n",
              "        text-align: right;\n",
              "    }\n",
              "</style>\n",
              "<table border=\"1\" class=\"dataframe\">\n",
              "  <thead>\n",
              "    <tr style=\"text-align: right;\">\n",
              "      <th></th>\n",
              "      <th>No</th>\n",
              "      <th>year</th>\n",
              "      <th>month</th>\n",
              "      <th>day</th>\n",
              "      <th>hour</th>\n",
              "      <th>PM2.5</th>\n",
              "      <th>PM10</th>\n",
              "      <th>SO2</th>\n",
              "      <th>NO2</th>\n",
              "      <th>CO</th>\n",
              "      <th>O3</th>\n",
              "    </tr>\n",
              "  </thead>\n",
              "  <tbody>\n",
              "    <tr>\n",
              "      <th>count</th>\n",
              "      <td>35064.000000</td>\n",
              "      <td>35064.000000</td>\n",
              "      <td>35064.000000</td>\n",
              "      <td>35064.000000</td>\n",
              "      <td>35064.000000</td>\n",
              "      <td>35064.000000</td>\n",
              "      <td>35064.000000</td>\n",
              "      <td>35064.000000</td>\n",
              "      <td>35064.000000</td>\n",
              "      <td>35064.000000</td>\n",
              "      <td>35064.000000</td>\n",
              "    </tr>\n",
              "    <tr>\n",
              "      <th>mean</th>\n",
              "      <td>17532.500000</td>\n",
              "      <td>2014.662560</td>\n",
              "      <td>6.522930</td>\n",
              "      <td>15.729637</td>\n",
              "      <td>11.500000</td>\n",
              "      <td>82.105557</td>\n",
              "      <td>106.126627</td>\n",
              "      <td>16.471377</td>\n",
              "      <td>53.622090</td>\n",
              "      <td>1246.757520</td>\n",
              "      <td>56.081515</td>\n",
              "    </tr>\n",
              "    <tr>\n",
              "      <th>std</th>\n",
              "      <td>10122.249256</td>\n",
              "      <td>1.177213</td>\n",
              "      <td>3.448752</td>\n",
              "      <td>8.800218</td>\n",
              "      <td>6.922285</td>\n",
              "      <td>72.722905</td>\n",
              "      <td>83.539081</td>\n",
              "      <td>16.404839</td>\n",
              "      <td>33.116279</td>\n",
              "      <td>876.832289</td>\n",
              "      <td>50.576826</td>\n",
              "    </tr>\n",
              "    <tr>\n",
              "      <th>min</th>\n",
              "      <td>1.000000</td>\n",
              "      <td>2013.000000</td>\n",
              "      <td>1.000000</td>\n",
              "      <td>1.000000</td>\n",
              "      <td>0.000000</td>\n",
              "      <td>3.000000</td>\n",
              "      <td>2.000000</td>\n",
              "      <td>0.285600</td>\n",
              "      <td>2.000000</td>\n",
              "      <td>100.000000</td>\n",
              "      <td>0.642600</td>\n",
              "    </tr>\n",
              "    <tr>\n",
              "      <th>25%</th>\n",
              "      <td>8766.750000</td>\n",
              "      <td>2014.000000</td>\n",
              "      <td>4.000000</td>\n",
              "      <td>8.000000</td>\n",
              "      <td>5.750000</td>\n",
              "      <td>23.000000</td>\n",
              "      <td>38.000000</td>\n",
              "      <td>3.712800</td>\n",
              "      <td>27.000000</td>\n",
              "      <td>600.000000</td>\n",
              "      <td>13.000000</td>\n",
              "    </tr>\n",
              "    <tr>\n",
              "      <th>50%</th>\n",
              "      <td>17532.500000</td>\n",
              "      <td>2015.000000</td>\n",
              "      <td>7.000000</td>\n",
              "      <td>16.000000</td>\n",
              "      <td>11.500000</td>\n",
              "      <td>61.000000</td>\n",
              "      <td>86.000000</td>\n",
              "      <td>10.000000</td>\n",
              "      <td>47.000000</td>\n",
              "      <td>1000.000000</td>\n",
              "      <td>45.000000</td>\n",
              "    </tr>\n",
              "    <tr>\n",
              "      <th>75%</th>\n",
              "      <td>26298.250000</td>\n",
              "      <td>2016.000000</td>\n",
              "      <td>10.000000</td>\n",
              "      <td>23.000000</td>\n",
              "      <td>17.250000</td>\n",
              "      <td>119.000000</td>\n",
              "      <td>150.000000</td>\n",
              "      <td>24.000000</td>\n",
              "      <td>74.000000</td>\n",
              "      <td>1700.000000</td>\n",
              "      <td>82.000000</td>\n",
              "    </tr>\n",
              "    <tr>\n",
              "      <th>max</th>\n",
              "      <td>35064.000000</td>\n",
              "      <td>2017.000000</td>\n",
              "      <td>12.000000</td>\n",
              "      <td>31.000000</td>\n",
              "      <td>23.000000</td>\n",
              "      <td>263.000000</td>\n",
              "      <td>318.000000</td>\n",
              "      <td>54.430800</td>\n",
              "      <td>144.500000</td>\n",
              "      <td>3350.000000</td>\n",
              "      <td>185.500000</td>\n",
              "    </tr>\n",
              "  </tbody>\n",
              "</table>\n",
              "</div>"
            ],
            "text/plain": [
              "                 No          year         month           day          hour  \\\n",
              "count  35064.000000  35064.000000  35064.000000  35064.000000  35064.000000   \n",
              "mean   17532.500000   2014.662560      6.522930     15.729637     11.500000   \n",
              "std    10122.249256      1.177213      3.448752      8.800218      6.922285   \n",
              "min        1.000000   2013.000000      1.000000      1.000000      0.000000   \n",
              "25%     8766.750000   2014.000000      4.000000      8.000000      5.750000   \n",
              "50%    17532.500000   2015.000000      7.000000     16.000000     11.500000   \n",
              "75%    26298.250000   2016.000000     10.000000     23.000000     17.250000   \n",
              "max    35064.000000   2017.000000     12.000000     31.000000     23.000000   \n",
              "\n",
              "              PM2.5          PM10           SO2           NO2            CO  \\\n",
              "count  35064.000000  35064.000000  35064.000000  35064.000000  35064.000000   \n",
              "mean      82.105557    106.126627     16.471377     53.622090   1246.757520   \n",
              "std       72.722905     83.539081     16.404839     33.116279    876.832289   \n",
              "min        3.000000      2.000000      0.285600      2.000000    100.000000   \n",
              "25%       23.000000     38.000000      3.712800     27.000000    600.000000   \n",
              "50%       61.000000     86.000000     10.000000     47.000000   1000.000000   \n",
              "75%      119.000000    150.000000     24.000000     74.000000   1700.000000   \n",
              "max      263.000000    318.000000     54.430800    144.500000   3350.000000   \n",
              "\n",
              "                 O3  \n",
              "count  35064.000000  \n",
              "mean      56.081515  \n",
              "std       50.576826  \n",
              "min        0.642600  \n",
              "25%       13.000000  \n",
              "50%       45.000000  \n",
              "75%       82.000000  \n",
              "max      185.500000  "
            ]
          },
          "execution_count": 19,
          "metadata": {},
          "output_type": "execute_result"
        }
      ],
      "source": [
        "#Check summary setelah outlier teratasi\n",
        "air_quality_df.describe()"
      ]
    },
    {
      "attachments": {},
      "cell_type": "markdown",
      "metadata": {
        "id": "4TkjG50OHKCo"
      },
      "source": [
        "Dapat dilihat pada tabel diatas, jarak antara kuartil 3 (Q3) dengan nilai maksimal dan jarak antara kuartil 1 (Q1) dengan nilai minimal sudah lebih kecil. Hal ini menandakan metode imputation berhasil berjalan dengan baik"
      ]
    },
    {
      "attachments": {},
      "cell_type": "markdown",
      "metadata": {
        "id": "EyPJaCDm9KFb"
      },
      "source": [
        "## Exploratory Data Analysis (EDA)"
      ]
    },
    {
      "attachments": {},
      "cell_type": "markdown",
      "metadata": {
        "id": "hxgJ6qd69Mce"
      },
      "source": [
        "### Explore count per day"
      ]
    },
    {
      "cell_type": "code",
      "execution_count": 20,
      "metadata": {
        "colab": {
          "base_uri": "https://localhost:8080/",
          "height": 394
        },
        "id": "Xo68yguo9LTl",
        "outputId": "6f763330-8da3-4fe7-9aa6-9dfe2d091c51"
      },
      "outputs": [
        {
          "data": {
            "text/html": [
              "<div>\n",
              "<style scoped>\n",
              "    .dataframe tbody tr th:only-of-type {\n",
              "        vertical-align: middle;\n",
              "    }\n",
              "\n",
              "    .dataframe tbody tr th {\n",
              "        vertical-align: top;\n",
              "    }\n",
              "\n",
              "    .dataframe thead th {\n",
              "        text-align: right;\n",
              "    }\n",
              "</style>\n",
              "<table border=\"1\" class=\"dataframe\">\n",
              "  <thead>\n",
              "    <tr style=\"text-align: right;\">\n",
              "      <th></th>\n",
              "      <th>PM2.5</th>\n",
              "      <th>PM10</th>\n",
              "      <th>SO2</th>\n",
              "      <th>NO2</th>\n",
              "      <th>CO</th>\n",
              "      <th>O3</th>\n",
              "    </tr>\n",
              "    <tr>\n",
              "      <th>datetime</th>\n",
              "      <th></th>\n",
              "      <th></th>\n",
              "      <th></th>\n",
              "      <th></th>\n",
              "      <th></th>\n",
              "      <th></th>\n",
              "    </tr>\n",
              "  </thead>\n",
              "  <tbody>\n",
              "    <tr>\n",
              "      <th>2013-03-01</th>\n",
              "      <td>6.416667</td>\n",
              "      <td>9.875000</td>\n",
              "      <td>8.291667</td>\n",
              "      <td>28.229167</td>\n",
              "      <td>389.583333</td>\n",
              "      <td>72.750000</td>\n",
              "    </tr>\n",
              "    <tr>\n",
              "      <th>2013-03-02</th>\n",
              "      <td>30.500000</td>\n",
              "      <td>40.583333</td>\n",
              "      <td>26.553850</td>\n",
              "      <td>58.500000</td>\n",
              "      <td>966.583333</td>\n",
              "      <td>37.791667</td>\n",
              "    </tr>\n",
              "    <tr>\n",
              "      <th>2013-03-03</th>\n",
              "      <td>98.333333</td>\n",
              "      <td>131.583333</td>\n",
              "      <td>43.977583</td>\n",
              "      <td>93.458333</td>\n",
              "      <td>2132.875000</td>\n",
              "      <td>20.333333</td>\n",
              "    </tr>\n",
              "    <tr>\n",
              "      <th>2013-03-04</th>\n",
              "      <td>24.291667</td>\n",
              "      <td>40.875000</td>\n",
              "      <td>16.511800</td>\n",
              "      <td>47.671642</td>\n",
              "      <td>833.333333</td>\n",
              "      <td>62.291667</td>\n",
              "    </tr>\n",
              "    <tr>\n",
              "      <th>2013-03-05</th>\n",
              "      <td>154.250000</td>\n",
              "      <td>183.166667</td>\n",
              "      <td>54.430800</td>\n",
              "      <td>119.604167</td>\n",
              "      <td>2399.770833</td>\n",
              "      <td>83.041667</td>\n",
              "    </tr>\n",
              "    <tr>\n",
              "      <th>2013-03-06</th>\n",
              "      <td>206.833333</td>\n",
              "      <td>231.916667</td>\n",
              "      <td>54.430800</td>\n",
              "      <td>141.687500</td>\n",
              "      <td>2849.708333</td>\n",
              "      <td>28.000000</td>\n",
              "    </tr>\n",
              "    <tr>\n",
              "      <th>2013-03-07</th>\n",
              "      <td>246.291667</td>\n",
              "      <td>283.208333</td>\n",
              "      <td>54.162850</td>\n",
              "      <td>139.250000</td>\n",
              "      <td>3133.250000</td>\n",
              "      <td>53.541667</td>\n",
              "    </tr>\n",
              "    <tr>\n",
              "      <th>2013-03-08</th>\n",
              "      <td>159.458333</td>\n",
              "      <td>197.958333</td>\n",
              "      <td>47.394250</td>\n",
              "      <td>121.833333</td>\n",
              "      <td>2541.541667</td>\n",
              "      <td>104.541667</td>\n",
              "    </tr>\n",
              "    <tr>\n",
              "      <th>2013-03-09</th>\n",
              "      <td>58.916667</td>\n",
              "      <td>164.416667</td>\n",
              "      <td>28.497767</td>\n",
              "      <td>58.645833</td>\n",
              "      <td>1301.812500</td>\n",
              "      <td>97.083333</td>\n",
              "    </tr>\n",
              "    <tr>\n",
              "      <th>2013-03-10</th>\n",
              "      <td>36.333333</td>\n",
              "      <td>66.458333</td>\n",
              "      <td>19.250000</td>\n",
              "      <td>53.208333</td>\n",
              "      <td>924.958333</td>\n",
              "      <td>95.125000</td>\n",
              "    </tr>\n",
              "  </tbody>\n",
              "</table>\n",
              "</div>"
            ],
            "text/plain": [
              "                 PM2.5        PM10        SO2         NO2           CO  \\\n",
              "datetime                                                                 \n",
              "2013-03-01    6.416667    9.875000   8.291667   28.229167   389.583333   \n",
              "2013-03-02   30.500000   40.583333  26.553850   58.500000   966.583333   \n",
              "2013-03-03   98.333333  131.583333  43.977583   93.458333  2132.875000   \n",
              "2013-03-04   24.291667   40.875000  16.511800   47.671642   833.333333   \n",
              "2013-03-05  154.250000  183.166667  54.430800  119.604167  2399.770833   \n",
              "2013-03-06  206.833333  231.916667  54.430800  141.687500  2849.708333   \n",
              "2013-03-07  246.291667  283.208333  54.162850  139.250000  3133.250000   \n",
              "2013-03-08  159.458333  197.958333  47.394250  121.833333  2541.541667   \n",
              "2013-03-09   58.916667  164.416667  28.497767   58.645833  1301.812500   \n",
              "2013-03-10   36.333333   66.458333  19.250000   53.208333   924.958333   \n",
              "\n",
              "                    O3  \n",
              "datetime                \n",
              "2013-03-01   72.750000  \n",
              "2013-03-02   37.791667  \n",
              "2013-03-03   20.333333  \n",
              "2013-03-04   62.291667  \n",
              "2013-03-05   83.041667  \n",
              "2013-03-06   28.000000  \n",
              "2013-03-07   53.541667  \n",
              "2013-03-08  104.541667  \n",
              "2013-03-09   97.083333  \n",
              "2013-03-10   95.125000  "
            ]
          },
          "execution_count": 20,
          "metadata": {},
          "output_type": "execute_result"
        }
      ],
      "source": [
        "air_quality_df.reset_index()\n",
        "\n",
        "air_quality_df_by_day = air_quality_df.resample(rule='D').agg({\n",
        "    'PM2.5' : 'mean',\n",
        "    'PM10' : 'mean',\n",
        "    'SO2' : 'mean',\n",
        "    'NO2' : 'mean',\n",
        "    'CO' : 'mean',\n",
        "    'O3' : 'mean'\n",
        "})\n",
        "\n",
        "air_quality_df_by_day.head(10)"
      ]
    },
    {
      "attachments": {},
      "cell_type": "markdown",
      "metadata": {
        "id": "_lXWi7ZRsANf"
      },
      "source": [
        "####Drop O3 (Ozon)\n",
        "because in many source, ozon can maximum measure per 8 hours. So, i dont wan't the variabel disturb other variable."
      ]
    },
    {
      "cell_type": "code",
      "execution_count": 21,
      "metadata": {
        "colab": {
          "base_uri": "https://localhost:8080/",
          "height": 238
        },
        "id": "wDyQZDA_swwX",
        "outputId": "ceb0d812-4333-420c-bcaf-84e864a48607"
      },
      "outputs": [
        {
          "data": {
            "text/html": [
              "<div>\n",
              "<style scoped>\n",
              "    .dataframe tbody tr th:only-of-type {\n",
              "        vertical-align: middle;\n",
              "    }\n",
              "\n",
              "    .dataframe tbody tr th {\n",
              "        vertical-align: top;\n",
              "    }\n",
              "\n",
              "    .dataframe thead th {\n",
              "        text-align: right;\n",
              "    }\n",
              "</style>\n",
              "<table border=\"1\" class=\"dataframe\">\n",
              "  <thead>\n",
              "    <tr style=\"text-align: right;\">\n",
              "      <th></th>\n",
              "      <th>PM2.5</th>\n",
              "      <th>PM10</th>\n",
              "      <th>SO2</th>\n",
              "      <th>NO2</th>\n",
              "      <th>CO</th>\n",
              "    </tr>\n",
              "    <tr>\n",
              "      <th>datetime</th>\n",
              "      <th></th>\n",
              "      <th></th>\n",
              "      <th></th>\n",
              "      <th></th>\n",
              "      <th></th>\n",
              "    </tr>\n",
              "  </thead>\n",
              "  <tbody>\n",
              "    <tr>\n",
              "      <th>2013-03-01</th>\n",
              "      <td>6.416667</td>\n",
              "      <td>9.875000</td>\n",
              "      <td>8.291667</td>\n",
              "      <td>28.229167</td>\n",
              "      <td>389.583333</td>\n",
              "    </tr>\n",
              "    <tr>\n",
              "      <th>2013-03-02</th>\n",
              "      <td>30.500000</td>\n",
              "      <td>40.583333</td>\n",
              "      <td>26.553850</td>\n",
              "      <td>58.500000</td>\n",
              "      <td>966.583333</td>\n",
              "    </tr>\n",
              "    <tr>\n",
              "      <th>2013-03-03</th>\n",
              "      <td>98.333333</td>\n",
              "      <td>131.583333</td>\n",
              "      <td>43.977583</td>\n",
              "      <td>93.458333</td>\n",
              "      <td>2132.875000</td>\n",
              "    </tr>\n",
              "    <tr>\n",
              "      <th>2013-03-04</th>\n",
              "      <td>24.291667</td>\n",
              "      <td>40.875000</td>\n",
              "      <td>16.511800</td>\n",
              "      <td>47.671642</td>\n",
              "      <td>833.333333</td>\n",
              "    </tr>\n",
              "    <tr>\n",
              "      <th>2013-03-05</th>\n",
              "      <td>154.250000</td>\n",
              "      <td>183.166667</td>\n",
              "      <td>54.430800</td>\n",
              "      <td>119.604167</td>\n",
              "      <td>2399.770833</td>\n",
              "    </tr>\n",
              "  </tbody>\n",
              "</table>\n",
              "</div>"
            ],
            "text/plain": [
              "                 PM2.5        PM10        SO2         NO2           CO\n",
              "datetime                                                              \n",
              "2013-03-01    6.416667    9.875000   8.291667   28.229167   389.583333\n",
              "2013-03-02   30.500000   40.583333  26.553850   58.500000   966.583333\n",
              "2013-03-03   98.333333  131.583333  43.977583   93.458333  2132.875000\n",
              "2013-03-04   24.291667   40.875000  16.511800   47.671642   833.333333\n",
              "2013-03-05  154.250000  183.166667  54.430800  119.604167  2399.770833"
            ]
          },
          "execution_count": 21,
          "metadata": {},
          "output_type": "execute_result"
        }
      ],
      "source": [
        "air_quality_df_by_day = air_quality_df_by_day.drop(['O3'], axis=1)\n",
        "air_quality_df_by_day.head(5)"
      ]
    },
    {
      "attachments": {},
      "cell_type": "markdown",
      "metadata": {
        "id": "kmodhgSTvOzx"
      },
      "source": [
        "####Change CO units\n",
        "because in https://www.transportpolicy.net/standard/china-air-quality-standards/ the maksimum of CO measured with mg unit, we should divide the CO value with 1000"
      ]
    },
    {
      "cell_type": "code",
      "execution_count": 22,
      "metadata": {
        "colab": {
          "base_uri": "https://localhost:8080/",
          "height": 238
        },
        "id": "ONArNIoSvvzg",
        "outputId": "dc77b1a9-9cca-4952-aa9e-4acdb2af6d3d"
      },
      "outputs": [
        {
          "data": {
            "text/html": [
              "<div>\n",
              "<style scoped>\n",
              "    .dataframe tbody tr th:only-of-type {\n",
              "        vertical-align: middle;\n",
              "    }\n",
              "\n",
              "    .dataframe tbody tr th {\n",
              "        vertical-align: top;\n",
              "    }\n",
              "\n",
              "    .dataframe thead th {\n",
              "        text-align: right;\n",
              "    }\n",
              "</style>\n",
              "<table border=\"1\" class=\"dataframe\">\n",
              "  <thead>\n",
              "    <tr style=\"text-align: right;\">\n",
              "      <th></th>\n",
              "      <th>PM2.5</th>\n",
              "      <th>PM10</th>\n",
              "      <th>SO2</th>\n",
              "      <th>NO2</th>\n",
              "      <th>CO</th>\n",
              "    </tr>\n",
              "    <tr>\n",
              "      <th>datetime</th>\n",
              "      <th></th>\n",
              "      <th></th>\n",
              "      <th></th>\n",
              "      <th></th>\n",
              "      <th></th>\n",
              "    </tr>\n",
              "  </thead>\n",
              "  <tbody>\n",
              "    <tr>\n",
              "      <th>2013-03-01</th>\n",
              "      <td>6.416667</td>\n",
              "      <td>9.875000</td>\n",
              "      <td>8.291667</td>\n",
              "      <td>28.229167</td>\n",
              "      <td>0.389583</td>\n",
              "    </tr>\n",
              "    <tr>\n",
              "      <th>2013-03-02</th>\n",
              "      <td>30.500000</td>\n",
              "      <td>40.583333</td>\n",
              "      <td>26.553850</td>\n",
              "      <td>58.500000</td>\n",
              "      <td>0.966583</td>\n",
              "    </tr>\n",
              "    <tr>\n",
              "      <th>2013-03-03</th>\n",
              "      <td>98.333333</td>\n",
              "      <td>131.583333</td>\n",
              "      <td>43.977583</td>\n",
              "      <td>93.458333</td>\n",
              "      <td>2.132875</td>\n",
              "    </tr>\n",
              "    <tr>\n",
              "      <th>2013-03-04</th>\n",
              "      <td>24.291667</td>\n",
              "      <td>40.875000</td>\n",
              "      <td>16.511800</td>\n",
              "      <td>47.671642</td>\n",
              "      <td>0.833333</td>\n",
              "    </tr>\n",
              "    <tr>\n",
              "      <th>2013-03-05</th>\n",
              "      <td>154.250000</td>\n",
              "      <td>183.166667</td>\n",
              "      <td>54.430800</td>\n",
              "      <td>119.604167</td>\n",
              "      <td>2.399771</td>\n",
              "    </tr>\n",
              "  </tbody>\n",
              "</table>\n",
              "</div>"
            ],
            "text/plain": [
              "                 PM2.5        PM10        SO2         NO2        CO\n",
              "datetime                                                           \n",
              "2013-03-01    6.416667    9.875000   8.291667   28.229167  0.389583\n",
              "2013-03-02   30.500000   40.583333  26.553850   58.500000  0.966583\n",
              "2013-03-03   98.333333  131.583333  43.977583   93.458333  2.132875\n",
              "2013-03-04   24.291667   40.875000  16.511800   47.671642  0.833333\n",
              "2013-03-05  154.250000  183.166667  54.430800  119.604167  2.399771"
            ]
          },
          "execution_count": 22,
          "metadata": {},
          "output_type": "execute_result"
        }
      ],
      "source": [
        "air_quality_df_by_day['CO'] = air_quality_df_by_day['CO'].apply(lambda x : x/1000)\n",
        "air_quality_df_by_day.head(5)\n"
      ]
    },
    {
      "attachments": {},
      "cell_type": "markdown",
      "metadata": {
        "id": "0np_rhX0yhTO"
      },
      "source": [
        "####Normalized the data based on its high value that can be tolerate in one day\n",
        "\n",
        "PM2.5 = 35\n",
        "PM10 = 50\n",
        "CO = 4\n",
        "NO2 = 80\n",
        "SO2 = 50\n",
        "\n",
        "source: https://www.transportpolicy.net/standard/china-air-quality-standards/\n",
        "\n",
        "normalized is used for compare each variable to find who is the greatest from their maximum value that can be tolerate (standard value)"
      ]
    },
    {
      "cell_type": "code",
      "execution_count": 23,
      "metadata": {
        "colab": {
          "base_uri": "https://localhost:8080/",
          "height": 238
        },
        "id": "DqnXtHFYyxmf",
        "outputId": "82bd285f-bc97-4059-a172-03558404e0e5"
      },
      "outputs": [
        {
          "data": {
            "text/html": [
              "<div>\n",
              "<style scoped>\n",
              "    .dataframe tbody tr th:only-of-type {\n",
              "        vertical-align: middle;\n",
              "    }\n",
              "\n",
              "    .dataframe tbody tr th {\n",
              "        vertical-align: top;\n",
              "    }\n",
              "\n",
              "    .dataframe thead th {\n",
              "        text-align: right;\n",
              "    }\n",
              "</style>\n",
              "<table border=\"1\" class=\"dataframe\">\n",
              "  <thead>\n",
              "    <tr style=\"text-align: right;\">\n",
              "      <th></th>\n",
              "      <th>PM2.5</th>\n",
              "      <th>PM10</th>\n",
              "      <th>SO2</th>\n",
              "      <th>NO2</th>\n",
              "      <th>CO</th>\n",
              "    </tr>\n",
              "    <tr>\n",
              "      <th>datetime</th>\n",
              "      <th></th>\n",
              "      <th></th>\n",
              "      <th></th>\n",
              "      <th></th>\n",
              "      <th></th>\n",
              "    </tr>\n",
              "  </thead>\n",
              "  <tbody>\n",
              "    <tr>\n",
              "      <th>2013-03-01</th>\n",
              "      <td>0.183333</td>\n",
              "      <td>0.197500</td>\n",
              "      <td>0.165833</td>\n",
              "      <td>0.352865</td>\n",
              "      <td>0.097396</td>\n",
              "    </tr>\n",
              "    <tr>\n",
              "      <th>2013-03-02</th>\n",
              "      <td>0.871429</td>\n",
              "      <td>0.811667</td>\n",
              "      <td>0.531077</td>\n",
              "      <td>0.731250</td>\n",
              "      <td>0.241646</td>\n",
              "    </tr>\n",
              "    <tr>\n",
              "      <th>2013-03-03</th>\n",
              "      <td>2.809524</td>\n",
              "      <td>2.631667</td>\n",
              "      <td>0.879552</td>\n",
              "      <td>1.168229</td>\n",
              "      <td>0.533219</td>\n",
              "    </tr>\n",
              "    <tr>\n",
              "      <th>2013-03-04</th>\n",
              "      <td>0.694048</td>\n",
              "      <td>0.817500</td>\n",
              "      <td>0.330236</td>\n",
              "      <td>0.595896</td>\n",
              "      <td>0.208333</td>\n",
              "    </tr>\n",
              "    <tr>\n",
              "      <th>2013-03-05</th>\n",
              "      <td>4.407143</td>\n",
              "      <td>3.663333</td>\n",
              "      <td>1.088616</td>\n",
              "      <td>1.495052</td>\n",
              "      <td>0.599943</td>\n",
              "    </tr>\n",
              "  </tbody>\n",
              "</table>\n",
              "</div>"
            ],
            "text/plain": [
              "               PM2.5      PM10       SO2       NO2        CO\n",
              "datetime                                                    \n",
              "2013-03-01  0.183333  0.197500  0.165833  0.352865  0.097396\n",
              "2013-03-02  0.871429  0.811667  0.531077  0.731250  0.241646\n",
              "2013-03-03  2.809524  2.631667  0.879552  1.168229  0.533219\n",
              "2013-03-04  0.694048  0.817500  0.330236  0.595896  0.208333\n",
              "2013-03-05  4.407143  3.663333  1.088616  1.495052  0.599943"
            ]
          },
          "execution_count": 23,
          "metadata": {},
          "output_type": "execute_result"
        }
      ],
      "source": [
        "standard_values = {'PM2.5': 35, 'PM10': 50, 'CO': 4, 'NO2': 80, 'SO2': 50}\n",
        "\n",
        "normalized_df = air_quality_df_by_day.divide(standard_values)\n",
        "\n",
        "normalized_df.head(5)"
      ]
    },
    {
      "cell_type": "code",
      "execution_count": 24,
      "metadata": {
        "colab": {
          "base_uri": "https://localhost:8080/",
          "height": 300
        },
        "id": "YCCaxFR2AHZg",
        "outputId": "26406e7e-fa2c-43a1-9946-6620d6f74403"
      },
      "outputs": [
        {
          "data": {
            "text/html": [
              "<div>\n",
              "<style scoped>\n",
              "    .dataframe tbody tr th:only-of-type {\n",
              "        vertical-align: middle;\n",
              "    }\n",
              "\n",
              "    .dataframe tbody tr th {\n",
              "        vertical-align: top;\n",
              "    }\n",
              "\n",
              "    .dataframe thead th {\n",
              "        text-align: right;\n",
              "    }\n",
              "</style>\n",
              "<table border=\"1\" class=\"dataframe\">\n",
              "  <thead>\n",
              "    <tr style=\"text-align: right;\">\n",
              "      <th></th>\n",
              "      <th>PM2.5</th>\n",
              "      <th>PM10</th>\n",
              "      <th>SO2</th>\n",
              "      <th>NO2</th>\n",
              "      <th>CO</th>\n",
              "    </tr>\n",
              "  </thead>\n",
              "  <tbody>\n",
              "    <tr>\n",
              "      <th>count</th>\n",
              "      <td>1461.000000</td>\n",
              "      <td>1461.000000</td>\n",
              "      <td>1461.000000</td>\n",
              "      <td>1461.000000</td>\n",
              "      <td>1461.000000</td>\n",
              "    </tr>\n",
              "    <tr>\n",
              "      <th>mean</th>\n",
              "      <td>2.345873</td>\n",
              "      <td>2.122533</td>\n",
              "      <td>0.329428</td>\n",
              "      <td>0.670276</td>\n",
              "      <td>0.311689</td>\n",
              "    </tr>\n",
              "    <tr>\n",
              "      <th>std</th>\n",
              "      <td>1.780239</td>\n",
              "      <td>1.385227</td>\n",
              "      <td>0.286998</td>\n",
              "      <td>0.319593</td>\n",
              "      <td>0.183869</td>\n",
              "    </tr>\n",
              "    <tr>\n",
              "      <th>min</th>\n",
              "      <td>0.085714</td>\n",
              "      <td>0.096667</td>\n",
              "      <td>0.020000</td>\n",
              "      <td>0.035701</td>\n",
              "      <td>0.034375</td>\n",
              "    </tr>\n",
              "    <tr>\n",
              "      <th>25%</th>\n",
              "      <td>0.947619</td>\n",
              "      <td>1.030000</td>\n",
              "      <td>0.103333</td>\n",
              "      <td>0.447396</td>\n",
              "      <td>0.181250</td>\n",
              "    </tr>\n",
              "    <tr>\n",
              "      <th>50%</th>\n",
              "      <td>1.876190</td>\n",
              "      <td>1.797917</td>\n",
              "      <td>0.229745</td>\n",
              "      <td>0.606771</td>\n",
              "      <td>0.257292</td>\n",
              "    </tr>\n",
              "    <tr>\n",
              "      <th>75%</th>\n",
              "      <td>3.280952</td>\n",
              "      <td>2.831667</td>\n",
              "      <td>0.482513</td>\n",
              "      <td>0.827656</td>\n",
              "      <td>0.393750</td>\n",
              "    </tr>\n",
              "    <tr>\n",
              "      <th>max</th>\n",
              "      <td>7.514286</td>\n",
              "      <td>6.360000</td>\n",
              "      <td>1.088616</td>\n",
              "      <td>1.792338</td>\n",
              "      <td>0.837500</td>\n",
              "    </tr>\n",
              "  </tbody>\n",
              "</table>\n",
              "</div>"
            ],
            "text/plain": [
              "             PM2.5         PM10          SO2          NO2           CO\n",
              "count  1461.000000  1461.000000  1461.000000  1461.000000  1461.000000\n",
              "mean      2.345873     2.122533     0.329428     0.670276     0.311689\n",
              "std       1.780239     1.385227     0.286998     0.319593     0.183869\n",
              "min       0.085714     0.096667     0.020000     0.035701     0.034375\n",
              "25%       0.947619     1.030000     0.103333     0.447396     0.181250\n",
              "50%       1.876190     1.797917     0.229745     0.606771     0.257292\n",
              "75%       3.280952     2.831667     0.482513     0.827656     0.393750\n",
              "max       7.514286     6.360000     1.088616     1.792338     0.837500"
            ]
          },
          "execution_count": 24,
          "metadata": {},
          "output_type": "execute_result"
        }
      ],
      "source": [
        "normalized_df.describe()"
      ]
    },
    {
      "attachments": {},
      "cell_type": "markdown",
      "metadata": {
        "id": "SCNmtOLp9OKB"
      },
      "source": [
        "## Visualization & Explanatory Analysis"
      ]
    },
    {
      "attachments": {},
      "cell_type": "markdown",
      "metadata": {
        "id": "SG59_Fbj9Qr6"
      },
      "source": [
        "### Pertanyaan 1: Apa penyebab terbesar dari pencemaran udara di kota Dongsi?"
      ]
    },
    {
      "cell_type": "code",
      "execution_count": 25,
      "metadata": {
        "colab": {
          "base_uri": "https://localhost:8080/"
        },
        "id": "dtRoaxqd9PdU",
        "outputId": "020ed40f-4d0c-4d12-90cd-71a26b86da4b"
      },
      "outputs": [
        {
          "name": "stdout",
          "output_type": "stream",
          "text": [
            "       datetime pollutant     value\n",
            "0    2013-03-01     PM2.5  0.183333\n",
            "1    2013-03-02     PM2.5  0.871429\n",
            "2    2013-03-03     PM2.5  2.809524\n",
            "3    2013-03-04     PM2.5  0.694048\n",
            "4    2013-03-05     PM2.5  4.407143\n",
            "...         ...       ...       ...\n",
            "7300 2017-02-24        CO  0.192708\n",
            "7301 2017-02-25        CO  0.113542\n",
            "7302 2017-02-26        CO  0.155208\n",
            "7303 2017-02-27        CO  0.405729\n",
            "7304 2017-02-28        CO  0.126042\n",
            "\n",
            "[7305 rows x 3 columns]\n"
          ]
        }
      ],
      "source": [
        "normalized_df.reset_index(inplace=True)\n",
        "\n",
        "melted_df = pd.melt(normalized_df, id_vars=['datetime'], var_name='pollutant', value_name='value')\n",
        "\n",
        "print(melted_df)"
      ]
    },
    {
      "cell_type": "code",
      "execution_count": 26,
      "metadata": {
        "colab": {
          "base_uri": "https://localhost:8080/",
          "height": 430
        },
        "id": "NfzTflLs-NKy",
        "outputId": "f92c4c15-594d-44cd-a713-e857d019d8db"
      },
      "outputs": [
        {
          "data": {
            "image/png": "[encoded data removed]",
            "text/plain": [
              "<Figure size 640x480 with 1 Axes>"
            ]
          },
          "metadata": {},
          "output_type": "display_data"
        }
      ],
      "source": [
        "filtered_df = melted_df[melted_df['datetime'] == '2017-02-27']\n",
        "\n",
        "\n",
        "colors = [\"red\" if i == filtered_df[\"value\"].max() else \"blue\" for i in filtered_df[\"value\"]]\n",
        "plt.bar(x=filtered_df[\"pollutant\"], height=filtered_df[\"value\"], color=colors)\n",
        "\n",
        "plt.show()\n",
        "\n"
      ]
    },
    {
      "attachments": {},
      "cell_type": "markdown",
      "metadata": {},
      "source": [
        "### Pertanyaan 2: Apa yang dapat dilakukan oleh masyarakat Dongsi untuk mengurangi pencemaran udara di wilayah nya?"
      ]
    },
    {
      "attachments": {},
      "cell_type": "markdown",
      "metadata": {},
      "source": [
        "Dikarenakan pada tanggal 2017-02-27 pollutant yang terbanyak adalah PM10. Masyarakat Kota Dongsi dapat menggunaan filter udara yang dapat menyaring partikel PM10"
      ]
    },
    {
      "attachments": {},
      "cell_type": "markdown",
      "metadata": {
        "id": "F2Bo_ypQ9RfH"
      },
      "source": [
        "### Pertanyaan 3: Bagaimana kualitas udara di kota Dongsi dari waktu ke waktu?"
      ]
    },
    {
      "attachments": {},
      "cell_type": "markdown",
      "metadata": {
        "id": "fFCxXygGUCpe"
      },
      "source": [
        "#### Calculate AQI\n",
        "The air quality can be measured with air quality index (AQI). To calculate the AQI, we can use  this equation:![image.png](data:image/png;base64,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)\n",
        "\n",
        "source: https://www.health.act.gov.au/about-our-health-system/population-health/environmental-monitoring/air-quality/measuring-air#:~:text=The%20AQI%20is%20calculated%20from,Ambient%20Air%20(NEPM)%20standard."
      ]
    },
    {
      "attachments": {},
      "cell_type": "markdown",
      "metadata": {
        "id": "uUdz0tZcVEpM"
      },
      "source": [
        "The normalized_df is actually pollutantdatareading/standard. So we can only multiply the normalized_df by 100"
      ]
    },
    {
      "cell_type": "code",
      "execution_count": 27,
      "metadata": {
        "colab": {
          "base_uri": "https://localhost:8080/",
          "height": 238
        },
        "id": "jkO5kTJq9S1Y",
        "outputId": "92a7359f-79b2-44c4-c520-a6db675c0cd0"
      },
      "outputs": [
        {
          "data": {
            "text/html": [
              "<div>\n",
              "<style scoped>\n",
              "    .dataframe tbody tr th:only-of-type {\n",
              "        vertical-align: middle;\n",
              "    }\n",
              "\n",
              "    .dataframe tbody tr th {\n",
              "        vertical-align: top;\n",
              "    }\n",
              "\n",
              "    .dataframe thead th {\n",
              "        text-align: right;\n",
              "    }\n",
              "</style>\n",
              "<table border=\"1\" class=\"dataframe\">\n",
              "  <thead>\n",
              "    <tr style=\"text-align: right;\">\n",
              "      <th></th>\n",
              "      <th>PM2.5</th>\n",
              "      <th>PM10</th>\n",
              "      <th>SO2</th>\n",
              "      <th>NO2</th>\n",
              "      <th>CO</th>\n",
              "    </tr>\n",
              "    <tr>\n",
              "      <th>datetime</th>\n",
              "      <th></th>\n",
              "      <th></th>\n",
              "      <th></th>\n",
              "      <th></th>\n",
              "      <th></th>\n",
              "    </tr>\n",
              "  </thead>\n",
              "  <tbody>\n",
              "    <tr>\n",
              "      <th>2013-03-01</th>\n",
              "      <td>18.333333</td>\n",
              "      <td>19.750000</td>\n",
              "      <td>16.583333</td>\n",
              "      <td>35.286458</td>\n",
              "      <td>9.739583</td>\n",
              "    </tr>\n",
              "    <tr>\n",
              "      <th>2013-03-02</th>\n",
              "      <td>87.142857</td>\n",
              "      <td>81.166667</td>\n",
              "      <td>53.107700</td>\n",
              "      <td>73.125000</td>\n",
              "      <td>24.164583</td>\n",
              "    </tr>\n",
              "    <tr>\n",
              "      <th>2013-03-03</th>\n",
              "      <td>280.952381</td>\n",
              "      <td>263.166667</td>\n",
              "      <td>87.955167</td>\n",
              "      <td>116.822917</td>\n",
              "      <td>53.321875</td>\n",
              "    </tr>\n",
              "    <tr>\n",
              "      <th>2013-03-04</th>\n",
              "      <td>69.404762</td>\n",
              "      <td>81.750000</td>\n",
              "      <td>33.023600</td>\n",
              "      <td>59.589552</td>\n",
              "      <td>20.833333</td>\n",
              "    </tr>\n",
              "    <tr>\n",
              "      <th>2013-03-05</th>\n",
              "      <td>440.714286</td>\n",
              "      <td>366.333333</td>\n",
              "      <td>108.861600</td>\n",
              "      <td>149.505208</td>\n",
              "      <td>59.994271</td>\n",
              "    </tr>\n",
              "  </tbody>\n",
              "</table>\n",
              "</div>"
            ],
            "text/plain": [
              "                 PM2.5        PM10         SO2         NO2         CO\n",
              "datetime                                                             \n",
              "2013-03-01   18.333333   19.750000   16.583333   35.286458   9.739583\n",
              "2013-03-02   87.142857   81.166667   53.107700   73.125000  24.164583\n",
              "2013-03-03  280.952381  263.166667   87.955167  116.822917  53.321875\n",
              "2013-03-04   69.404762   81.750000   33.023600   59.589552  20.833333\n",
              "2013-03-05  440.714286  366.333333  108.861600  149.505208  59.994271"
            ]
          },
          "execution_count": 27,
          "metadata": {},
          "output_type": "execute_result"
        }
      ],
      "source": [
        "normalized_df = normalized_df.set_index('datetime')\n",
        "\n",
        "aqi_df = normalized_df * 100\n",
        "aqi_df.head(5)"
      ]
    },
    {
      "attachments": {},
      "cell_type": "markdown",
      "metadata": {
        "id": "IElrpUY4YQ0-"
      },
      "source": [
        "Now, we have the value of AQI pollutant for each pollutant. Next, we can get the mean of AQI pollutant per day and visualize that"
      ]
    },
    {
      "cell_type": "code",
      "execution_count": 28,
      "metadata": {
        "colab": {
          "base_uri": "https://localhost:8080/",
          "height": 238
        },
        "id": "WYqUXcXuXQuP",
        "outputId": "68044efd-7f87-4080-e872-8d18bf76800e"
      },
      "outputs": [
        {
          "data": {
            "text/html": [
              "<div>\n",
              "<style scoped>\n",
              "    .dataframe tbody tr th:only-of-type {\n",
              "        vertical-align: middle;\n",
              "    }\n",
              "\n",
              "    .dataframe tbody tr th {\n",
              "        vertical-align: top;\n",
              "    }\n",
              "\n",
              "    .dataframe thead th {\n",
              "        text-align: right;\n",
              "    }\n",
              "</style>\n",
              "<table border=\"1\" class=\"dataframe\">\n",
              "  <thead>\n",
              "    <tr style=\"text-align: right;\">\n",
              "      <th></th>\n",
              "      <th>PM2.5</th>\n",
              "      <th>PM10</th>\n",
              "      <th>SO2</th>\n",
              "      <th>NO2</th>\n",
              "      <th>CO</th>\n",
              "      <th>mean</th>\n",
              "    </tr>\n",
              "    <tr>\n",
              "      <th>datetime</th>\n",
              "      <th></th>\n",
              "      <th></th>\n",
              "      <th></th>\n",
              "      <th></th>\n",
              "      <th></th>\n",
              "      <th></th>\n",
              "    </tr>\n",
              "  </thead>\n",
              "  <tbody>\n",
              "    <tr>\n",
              "      <th>2013-03-01</th>\n",
              "      <td>18.333333</td>\n",
              "      <td>19.750000</td>\n",
              "      <td>16.583333</td>\n",
              "      <td>35.286458</td>\n",
              "      <td>9.739583</td>\n",
              "      <td>19.938542</td>\n",
              "    </tr>\n",
              "    <tr>\n",
              "      <th>2013-03-02</th>\n",
              "      <td>87.142857</td>\n",
              "      <td>81.166667</td>\n",
              "      <td>53.107700</td>\n",
              "      <td>73.125000</td>\n",
              "      <td>24.164583</td>\n",
              "      <td>63.741361</td>\n",
              "    </tr>\n",
              "    <tr>\n",
              "      <th>2013-03-03</th>\n",
              "      <td>280.952381</td>\n",
              "      <td>263.166667</td>\n",
              "      <td>87.955167</td>\n",
              "      <td>116.822917</td>\n",
              "      <td>53.321875</td>\n",
              "      <td>160.443801</td>\n",
              "    </tr>\n",
              "    <tr>\n",
              "      <th>2013-03-04</th>\n",
              "      <td>69.404762</td>\n",
              "      <td>81.750000</td>\n",
              "      <td>33.023600</td>\n",
              "      <td>59.589552</td>\n",
              "      <td>20.833333</td>\n",
              "      <td>52.920249</td>\n",
              "    </tr>\n",
              "    <tr>\n",
              "      <th>2013-03-05</th>\n",
              "      <td>440.714286</td>\n",
              "      <td>366.333333</td>\n",
              "      <td>108.861600</td>\n",
              "      <td>149.505208</td>\n",
              "      <td>59.994271</td>\n",
              "      <td>225.081740</td>\n",
              "    </tr>\n",
              "  </tbody>\n",
              "</table>\n",
              "</div>"
            ],
            "text/plain": [
              "                 PM2.5        PM10         SO2         NO2         CO  \\\n",
              "datetime                                                                \n",
              "2013-03-01   18.333333   19.750000   16.583333   35.286458   9.739583   \n",
              "2013-03-02   87.142857   81.166667   53.107700   73.125000  24.164583   \n",
              "2013-03-03  280.952381  263.166667   87.955167  116.822917  53.321875   \n",
              "2013-03-04   69.404762   81.750000   33.023600   59.589552  20.833333   \n",
              "2013-03-05  440.714286  366.333333  108.861600  149.505208  59.994271   \n",
              "\n",
              "                  mean  \n",
              "datetime                \n",
              "2013-03-01   19.938542  \n",
              "2013-03-02   63.741361  \n",
              "2013-03-03  160.443801  \n",
              "2013-03-04   52.920249  \n",
              "2013-03-05  225.081740  "
            ]
          },
          "execution_count": 28,
          "metadata": {},
          "output_type": "execute_result"
        }
      ],
      "source": [
        "mean = aqi_df.mean(axis=1)\n",
        "\n",
        "aqi_df[\"mean\"] = mean\n",
        "\n",
        "aqi_df.head(5)"
      ]
    },
    {
      "cell_type": "code",
      "execution_count": 29,
      "metadata": {
        "colab": {
          "base_uri": "https://localhost:8080/",
          "height": 575
        },
        "id": "7wxRzJ4naG5j",
        "outputId": "dd1cf4f4-0f4e-4477-d292-0774ee0afe80"
      },
      "outputs": [
        {
          "name": "stderr",
          "output_type": "stream",
          "text": [
            "C:\\Users\\IBM-JTI\\AppData\\Local\\Temp\\ipykernel_20552\\2775564702.py:3: SettingWithCopyWarning: \n",
            "A value is trying to be set on a copy of a slice from a DataFrame.\n",
            "Try using .loc[row_indexer,col_indexer] = value instead\n",
            "\n",
            "See the caveats in the documentation: https://pandas.pydata.org/pandas-docs/stable/user_guide/indexing.html#returning-a-view-versus-a-copy\n",
            "  filtered_aqi_df['datetime'] = pd.to_datetime(filtered_aqi_df['datetime'])\n"
          ]
        },
        {
          "data": {
            "image/png": "[encoded data removed]",
            "text/plain": [
              "<Figure size 1200x500 with 1 Axes>"
            ]
          },
          "metadata": {},
          "output_type": "display_data"
        }
      ],
      "source": [
        "aqi_df = aqi_df.reset_index()\n",
        "filtered_aqi_df = aqi_df[(aqi_df['datetime'] > '2013-03-01') & (aqi_df['datetime'] < '2013-03-30')]\n",
        "filtered_aqi_df['datetime'] = pd.to_datetime(filtered_aqi_df['datetime'])\n",
        "\n",
        "plt.figure(figsize=(12,5))\n",
        "plt.plot(filtered_aqi_df['datetime'], filtered_aqi_df['mean'])\n",
        "\n",
        "plt.xlabel('Date', size=15)\n",
        "plt.ylabel('AQI', size=15)\n",
        "\n",
        "plt.show()"
      ]
    },
    {
      "attachments": {},
      "cell_type": "markdown",
      "metadata": {
        "id": "CXcF27v_gSJr"
      },
      "source": [
        "Add day on the table so we can get the pattern more clearly"
      ]
    },
    {
      "cell_type": "code",
      "execution_count": 30,
      "metadata": {
        "colab": {
          "base_uri": "https://localhost:8080/",
          "height": 641
        },
        "id": "wJmqPSpXfr-k",
        "outputId": "928a16dc-0cdb-4722-ff6e-56babaeab439"
      },
      "outputs": [
        {
          "name": "stderr",
          "output_type": "stream",
          "text": [
            "C:\\Users\\IBM-JTI\\AppData\\Local\\Temp\\ipykernel_20552\\105646607.py:1: SettingWithCopyWarning: \n",
            "A value is trying to be set on a copy of a slice from a DataFrame.\n",
            "Try using .loc[row_indexer,col_indexer] = value instead\n",
            "\n",
            "See the caveats in the documentation: https://pandas.pydata.org/pandas-docs/stable/user_guide/indexing.html#returning-a-view-versus-a-copy\n",
            "  filtered_aqi_df['day'] = filtered_aqi_df['datetime'].dt.day_name()\n"
          ]
        },
        {
          "data": {
            "image/png": "[encoded data removed]",
            "text/plain": [
              "<Figure size 1200x500 with 1 Axes>"
            ]
          },
          "metadata": {},
          "output_type": "display_data"
        }
      ],
      "source": [
        "filtered_aqi_df['day'] = filtered_aqi_df['datetime'].dt.day_name()\n",
        "\n",
        "plt.figure(figsize=(12,5))\n",
        "plt.plot(filtered_aqi_df['datetime'], filtered_aqi_df['mean'])\n",
        "\n",
        "plt.xlabel('Day', size=15)\n",
        "plt.ylabel('AQI', size=15)\n",
        "plt.xticks(filtered_aqi_df['datetime'], filtered_aqi_df['day'], rotation=90)\n",
        "\n",
        "plt.show()"
      ]
    },
    {
      "attachments": {},
      "cell_type": "markdown",
      "metadata": {
        "id": "J2CnXYGT9Tc2"
      },
      "source": [
        "## Conclusion"
      ]
    },
    {
      "attachments": {},
      "cell_type": "markdown",
      "metadata": {
        "id": "f73FBkLw9V8C"
      },
      "source": [
        "- Conclution pertanyaan 1\n",
        "  Penyebab terbesar pencemaran udara di Kota Dongsi pada **2017-02-27** adalah PM10\n",
        "- conclution pertanyaan 2\n",
        "  Yang dapat dilakukan warga Kota Dongsi untuk mengurangi PM10 di kotanya adalah dengan menggunakan filter udara yang dapat menyaring partikel PM10\n",
        "- conclution pertanyaan 3\n",
        "  Kualitas udara di Kota Dongsi dari waktu ke waktu sangat fluktuatif. Tidak terpengaruh oleh hari kerja maupun hari libur. hal ini dapat dilihat pada gambar dibawah\n",
        "  ![image.png](data:image/png;base64,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)"
      ]
    },
    {
      "cell_type": "code",
      "execution_count": 31,
      "metadata": {
        "id": "b32P72p99VN9"
      },
      "outputs": [],
      "source": [
        "#import csv\n",
        "normalized_df = normalized_df.reset_index()\n",
        "normalized_df.to_csv(\"air_quality.csv\", index=False)"
      ]
    }
  ],
  "metadata": {
    "colab": {
      "collapsed_sections": [
        "EueHsNk89AsY",
        "7DwSpkkZ9BqV",
        "F9aXnlyo82Pf"
      ],
      "provenance": []
    },
    "kernelspec": {
      "display_name": "Python 3",
      "name": "python3"
    },
    "language_info": {
      "codemirror_mode": {
        "name": "ipython",
        "version": 3
      },
      "file_extension": ".py",
      "mimetype": "text/x-python",
      "name": "python",
      "nbconvert_exporter": "python",
      "pygments_lexer": "ipython3",
      "version": "3.10.11"
    }
  },
  "nbformat": 4,
  "nbformat_minor": 0
}
